{
 "cells": [
  {
   "cell_type": "markdown",
   "id": "6816fe8d",
   "metadata": {},
   "source": [
    "# Memory\n",
    "\n",
    ">"
   ]
  },
  {
   "cell_type": "code",
   "execution_count": null,
   "id": "4c57802f",
   "metadata": {},
   "outputs": [],
   "source": [
    "#| default_exp memory"
   ]
  },
  {
   "cell_type": "code",
   "execution_count": null,
   "id": "memorystore",
   "metadata": {},
   "outputs": [
    {
     "name": "stderr",
     "output_type": "stream",
     "text": [
      "/Users/cvardema/dev/git/LA3D/cogitarelink/cogitarelink-dspy/.venv/lib/python3.13/site-packages/tqdm/auto.py:21: TqdmWarning: IProgress not found. Please update jupyter and ipywidgets. See https://ipywidgets.readthedocs.io/en/stable/user_install.html\n",
      "  from .autonotebook import tqdm as notebook_tqdm\n"
     ]
    }
   ],
   "source": [
    "#| export\n",
    "import datetime, uuid, dspy\n",
    "from typing import List, Optional\n",
    "from cogitarelink.core.graph import GraphManager\n",
    "from cogitarelink.core.entity import Entity\n",
    "from cogitarelink.reason.prov import wrap_patch_with_prov\n",
    "\n",
    "REFLECTION_GRAPH = \"urn:agent:reflections\"\n",
    "REFLECTION_TYPE  = \"https://w3id.org/cogitarelink#ReflectionNote\"\n",
    "\n",
    "class ReflectionStore:\n",
    "    \"\"\"Persist 'lesson learned' notes as JSON-LD entities in the Cogitarelink graph.\"\"\"\n",
    "    def __init__(self, graph: GraphManager):\n",
    "        self.graph = graph\n",
    "\n",
    "    def add(self, text: str, tags: Optional[List[str]] = None) -> str:\n",
    "        note_id = f\"urn:uuid:{uuid.uuid4()}\"\n",
    "        now     = datetime.datetime.utcnow().isoformat()\n",
    "        content = {\n",
    "            \"@id\": note_id,\n",
    "            \"@type\": REFLECTION_TYPE,\n",
    "            \"text\": text,\n",
    "            \"tags\": tags or [],\n",
    "            \"dateCreated\": now\n",
    "        }\n",
    "        ent = Entity(vocab=[\"clref\",\"schema\"], content=content)\n",
    "        with wrap_patch_with_prov(\n",
    "            self.graph, source=\"urn:agent:self\",\n",
    "            agent=\"urn:agent:self\", activity=\"urn:agent:addReflection\"\n",
    "        ):\n",
    "            self.graph.ingest_entity(ent)\n",
    "        return note_id\n",
    "\n",
    "    def retrieve(self, limit: int = 5, tag_filter: Optional[str] = None) -> List[Entity]:\n",
    "        \"\"\"Fetch up to `limit` most recent notes, optionally filtering by tag.\"\"\"\n",
    "        ids = []\n",
    "        triples = self.graph.query(\n",
    "            pred=\"http://schema.org/dateCreated\",\n",
    "            graph_id=REFLECTION_GRAPH\n",
    "        )\n",
    "        triples.sort(key=lambda t: t[2], reverse=True)\n",
    "        for s,_,_ in triples[:limit]:\n",
    "            if tag_filter:\n",
    "                tag_triples = self.graph.query(\n",
    "                    subj=s, pred=\"http://schema.org/tags\", graph_id=REFLECTION_GRAPH\n",
    "                )\n",
    "                tags = [o for (_,_,o) in tag_triples]\n",
    "                if tag_filter not in tags:\n",
    "                    continue\n",
    "            ids.append(s)\n",
    "        ents = []\n",
    "        for nid in ids:\n",
    "            t = self.graph.query(\n",
    "                subj=nid, pred=\"http://schema.org/text\", graph_id=REFLECTION_GRAPH\n",
    "            )\n",
    "            text = t[0][2] if t else \"\"\n",
    "            ents.append(Entity(vocab=[\"clref\",\"schema\"], content={\n",
    "                \"@id\": nid,\n",
    "                \"@type\": REFLECTION_TYPE,\n",
    "                \"text\": text\n",
    "            }))\n",
    "        return ents\n",
    "\n",
    "    def as_prompt(self, limit: int = 5) -> str:\n",
    "        notes = self.retrieve(limit)\n",
    "        return \"\\n\".join(f\"• {e.content['text']}\" for e in notes)"
   ]
  },
  {
   "cell_type": "code",
   "execution_count": null,
   "id": "b8ca3304",
   "metadata": {},
   "outputs": [],
   "source": [
    "#| hide\n",
    "from nbdev.showdoc import *"
   ]
  },
  {
   "cell_type": "code",
   "execution_count": null,
   "id": "54677ae2",
   "metadata": {},
   "outputs": [],
   "source": [
    "#| hide\n",
    "import nbdev; nbdev.nbdev_export()"
   ]
  }
 ],
 "metadata": {
  "kernelspec": {
   "display_name": "python3",
   "language": "python",
   "name": "python3"
  }
 },
 "nbformat": 4,
 "nbformat_minor": 5
}
