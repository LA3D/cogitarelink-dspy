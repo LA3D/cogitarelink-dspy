{
 "cells": [
  {
   "cell_type": "code",
   "execution_count": null,
   "metadata": {},
   "outputs": [
    {
     "name": "stderr",
     "output_type": "stream",
     "text": [
      "/Users/cvardema/dev/git/LA3D/cogitarelink/cogitarelink-dspy/.venv/lib/python3.13/site-packages/tqdm/auto.py:21: TqdmWarning: IProgress not found. Please update jupyter and ipywidgets. See https://ipywidgets.readthedocs.io/en/stable/user_install.html\n",
      "  from .autonotebook import tqdm as notebook_tqdm\n",
      "/Users/cvardema/dev/git/LA3D/cogitarelink/cogitarelink-dspy/.venv/lib/python3.13/site-packages/pydantic/_internal/_fields.py:198: UserWarning: Field name \"dict\" in \"StringSignature\" shadows an attribute in parent \"Signature\"\n",
      "  warnings.warn(\n",
      "/Users/cvardema/dev/git/LA3D/cogitarelink/cogitarelink-dspy/.venv/lib/python3.13/site-packages/pydantic/_internal/_fields.py:198: UserWarning: Field name \"signature\" in \"StringSignature\" shadows an attribute in parent \"Signature\"\n",
      "  warnings.warn(\n"
     ]
    }
   ],
   "source": [
    "#| hide\n",
    "from cogitarelink_dspy.core import *"
   ]
  },
  {
   "cell_type": "markdown",
   "metadata": {},
   "source": [
    "# cogitarelink-dspy\n",
    "\n",
    "> A DSPy-based agent for Semantic Web knowledge navigation and reasoning"
   ]
  },
  {
   "cell_type": "markdown",
   "metadata": {},
   "source": [
    "This repository implements a DSPy-based agent that integrates with the Cogitarelink framework for Semantic Web data, with a focus on providing intelligent navigation of Linked Data resources. The agent is designed to understand and operate within a 4-layer Semantic Web architecture, selecting the appropriate tools for different user queries."
   ]
  },
  {
   "cell_type": "markdown",
   "metadata": {},
   "source": [
    "## Developer Guide"
   ]
  },
  {
   "cell_type": "markdown",
   "metadata": {},
   "source": [
    "If you are new to using `nbdev` here are some useful pointers to get you started."
   ]
  },
  {
   "cell_type": "markdown",
   "metadata": {},
   "source": [
    "### Install cogitarelink_dspy in Development mode"
   ]
  },
  {
   "cell_type": "markdown",
   "metadata": {},
   "source": [
    "```sh\n",
    "# make sure cogitarelink_dspy package is installed in development mode\n",
    "$ pip install -e .\n",
    "\n",
    "# make changes under nbs/ directory\n",
    "# ...\n",
    "\n",
    "# compile to have changes apply to cogitarelink_dspy\n",
    "$ nbdev_prepare\n",
    "```"
   ]
  },
  {
   "cell_type": "markdown",
   "metadata": {},
   "source": [
    "## Usage"
   ]
  },
  {
   "cell_type": "markdown",
   "metadata": {},
   "source": [
    "### Installation"
   ]
  },
  {
   "cell_type": "markdown",
   "metadata": {},
   "source": [
    "Install latest from the GitHub [repository][repo]:\n",
    "\n",
    "```sh\n",
    "$ pip install git+https://github.com/LA3D/cogitarelink-dspy.git\n",
    "```\n",
    "\n",
    "or from [conda][conda]\n",
    "\n",
    "```sh\n",
    "$ conda install -c LA3D cogitarelink_dspy\n",
    "```\n",
    "\n",
    "or from [pypi][pypi]\n",
    "\n",
    "\n",
    "```sh\n",
    "$ pip install cogitarelink_dspy\n",
    "```\n",
    "\n",
    "\n",
    "[repo]: https://github.com/LA3D/cogitarelink-dspy\n",
    "[docs]: https://LA3D.github.io/cogitarelink-dspy/\n",
    "[pypi]: https://pypi.org/project/cogitarelink-dspy/\n",
    "[conda]: https://anaconda.org/LA3D/cogitarelink-dspy"
   ]
  },
  {
   "cell_type": "markdown",
   "metadata": {},
   "source": [
    "### Documentation"
   ]
  },
  {
   "cell_type": "markdown",
   "metadata": {},
   "source": [
    "Documentation can be found hosted on this GitHub [repository][repo]'s [pages][docs]. Additionally you can find package manager specific guidelines on [conda][conda] and [pypi][pypi] respectively.\n",
    "\n",
    "[repo]: https://github.com/LA3D/cogitarelink-dspy\n",
    "[docs]: https://LA3D.github.io/cogitarelink-dspy/\n",
    "[pypi]: https://pypi.org/project/cogitarelink-dspy/\n",
    "[conda]: https://anaconda.org/LA3D/cogitarelink-dspy"
   ]
  },
  {
   "cell_type": "markdown",
   "metadata": {},
   "source": [
    "## How to use"
   ]
  },
  {
   "cell_type": "markdown",
   "metadata": {},
   "source": [
    "## Research Overview\n",
    "\n",
    "This project explores how Large Language Models (LLMs) can be combined with Semantic Web technologies to create agents that effectively navigate and reason over Linked Data. Our approach focuses on several key research areas:\n",
    "\n",
    "### 1. Semantic Layer Architecture\n",
    "\n",
    "We implement a 4-layer architecture for Semantic Web navigation:\n",
    "\n",
    "1. **Context Layer** - Working with JSON-LD contexts and namespaces\n",
    "2. **Ontology Layer** - Accessing and interpreting vocabularies and ontology terms\n",
    "3. **Rules Layer** - Applying validation rules and shapes (SHACL)\n",
    "4. **Instances Layer** - Managing actual data instances and entity graphs\n",
    "5. **Verification Layer** - Verifying and signing graphs for provenance\n",
    "\n",
    "The agent is designed to select the highest appropriate layer for each user request, enabling efficient access to knowledge at various levels of abstraction.\n",
    "\n",
    "### 2. Semantic Memory and Reflection\n",
    "\n",
    "The agent maintains a semantic memory store implemented as a knowledge graph with full provenance. This allows the agent to:\n",
    "\n",
    "- Record \"lessons learned\" as reflection notes\n",
    "- Store those reflections as properly typed JSON-LD entities\n",
    "- Retrieve and use past experiences to guide future reasoning\n",
    "- Track errors and validation failures to avoid repetition\n",
    "\n",
    "### 3. Tool Generation Architecture\n",
    "\n",
    "A key innovation is our component registry pattern:\n",
    "\n",
    "- All available tools are defined in a central catalog (`COMPONENTS` in `components.py`)\n",
    "- DSPy tool wrappers are automatically generated from this registry\n",
    "- Each tool is tagged with its appropriate semantic layer\n",
    "- This enables a clean separation between tool definitions and their implementation\n",
    "\n",
    "### 4. Real-World Linked Data Integration\n",
    "\n",
    "The agent can interact with:\n",
    "\n",
    "- Wikidata via SPARQL\n",
    "- Schema.org JSON-LD collections\n",
    "- Public SHACL validation shapes\n",
    "- Custom knowledge graphs with full provenance tracking\n",
    "\n",
    "## Code Examples\n",
    "\n",
    "```python\n",
    "# Initialize a basic Cogitarelink DSPy agent\n",
    "from cogitarelink_dspy.core import make_hello_agent\n",
    "\n",
    "# Create an agent with default LLM configuration\n",
    "agent = make_hello_agent()\n",
    "\n",
    "# Process a query that will be routed to the appropriate semantic layer\n",
    "result = agent(\"What ontology terms are available for describing a Person?\")\n",
    "print(f\"Layer used: {result['layer_used']}\")\n",
    "print(f\"Response: {result['llm_response']}\")\n",
    "```\n",
    "\n",
    "## Project Structure\n",
    "\n",
    "The project follows Jeremy Howard's literate programming approach with nbdev:\n",
    "\n",
    "- **Notebooks First**: All code is developed in notebooks under `nbs/` \n",
    "- **Auto-Export**: Python modules are auto-generated using `nbdev_export`\n",
    "- **Component Registry**: Central tool definitions in `components.py`\n",
    "- **Memory**: JSON-LD based semantic memory system in `memory.py`\n",
    "- **Telemetry**: Knowledge graph-based telemetry in `telemetry.py`\n",
    "\n",
    "## Research Goals\n",
    "\n",
    "Our ultimate goals with this project are to:\n",
    "\n",
    "1. Create an agent that can effectively operate over the entire Semantic Web stack\n",
    "2. Demonstrate how LLMs can be guided by semantic layer understanding\n",
    "3. Enable mixed-initiative interactions between users and Linked Data resources\n",
    "4. Build a foundation for verifiable, provenance-tracked knowledge systems"
   ]
  },
  {
   "cell_type": "markdown",
   "metadata": {},
   "source": [
    "## Getting Started\n",
    "\n",
    "To start working with the Cogitarelink-DSPy agent, you'll need to set up your environment:\n",
    "\n",
    "```python\n",
    "# Install dependencies\n",
    "!pip install dspy cogitarelink\n",
    "\n",
    "# Import the core modules\n",
    "import dspy\n",
    "from cogitarelink_dspy.core import make_hello_agent\n",
    "from cogitarelink_dspy.components import COMPONENTS, get_tools_by_layer\n",
    "from cogitarelink_dspy.wrappers import get_tools\n",
    "\n",
    "# Configure DSPy with your preferred LLM\n",
    "# For OpenAI models:\n",
    "import os\n",
    "os.environ[\"OPENAI_API_KEY\"] = \"your-api-key-here\"\n",
    "lm = dspy.LM(\"openai/gpt-4o-mini\")\n",
    "dspy.configure(lm=lm)\n",
    "\n",
    "# Create an agent\n",
    "agent = make_hello_agent()\n",
    "\n",
    "# Run a simple test query\n",
    "result = agent(\"What are the core components of Cogitarelink?\")\n",
    "print(result[\"llm_response\"])\n",
    "```\n",
    "\n",
    "### Working with Semantic Layers\n",
    "\n",
    "To work with specific semantic layers:\n",
    "\n",
    "```python\n",
    "# Get all tools for the Context layer\n",
    "context_tools = get_tools_by_layer(\"Context\")\n",
    "print(f\"Available Context tools: {list(context_tools.keys())}\")\n",
    "\n",
    "# Get all tools for the Ontology layer\n",
    "ontology_tools = get_tools_by_layer(\"Ontology\")\n",
    "print(f\"Available Ontology tools: {list(ontology_tools.keys())}\")\n",
    "```\n",
    "\n",
    "### Using the Memory System\n",
    "\n",
    "The agent can record reflections and learn from experience:\n",
    "\n",
    "```python\n",
    "from cogitarelink.core.graph import GraphManager\n",
    "from cogitarelink_dspy.memory import ReflectionStore\n",
    "\n",
    "# Initialize a graph manager and reflection store\n",
    "graph = GraphManager(use_rdflib=True)\n",
    "memory = ReflectionStore(graph)\n",
    "\n",
    "# Add a reflection note\n",
    "memory.add(\"When querying Wikidata, use wdt: prefix for direct properties\",\n",
    "           tags=[\"wikidata\", \"sparql\"])\n",
    "\n",
    "# Retrieve recent reflections\n",
    "notes = memory.retrieve(limit=5)\n",
    "for note in notes:\n",
    "    print(f\"- {note.content['text']}\")\n",
    "\n",
    "# Use reflections in system prompt\n",
    "reflection_prompt = memory.as_prompt()\n",
    "print(reflection_prompt)\n",
    "```"
   ]
  }
 ],
 "metadata": {
  "kernelspec": {
   "display_name": "python3",
   "language": "python",
   "name": "python3"
  }
 },
 "nbformat": 4,
 "nbformat_minor": 4
}
