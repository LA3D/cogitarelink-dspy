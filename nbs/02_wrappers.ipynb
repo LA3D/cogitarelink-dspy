{
 "cells": [
  {
   "cell_type": "markdown",
   "metadata": {},
   "source": "# Tool Wrappers\n\n> Automatically generate DSPy modules from our component registry.\n\nThis module takes the component registry and generates fully-typed DSPy modules for each tool. It converts the component metadata into actual DSPy Module classes with proper signatures and documentation.",
   "outputs": []
  },
  {
   "cell_type": "code",
   "execution_count": null,
   "metadata": {},
   "outputs": [],
   "source": [
    "#| default_exp wrappers"
   ]
  },
  {
   "cell_type": "code",
   "metadata": {},
   "outputs": [],
   "source": "#| hide\nfrom nbdev.showdoc import *"
  },
  {
   "cell_type": "code",
   "metadata": {},
   "outputs": [],
   "source": "#| export\nimport re\nimport inspect\nimport dspy\nfrom cogitarelink_dspy.components import COMPONENTS"
  },
  {
   "cell_type": "code",
   "metadata": {},
   "outputs": [],
   "source": "#| export\ndef parse_signature(sig_str):\n    \"\"\"Parse a signature string like 'foo(a:str, b:int) -> str' into parameter names,\n    types, and return type.\n    \n    Args:\n        sig_str: A string in the format \"function_name(param1:type, param2:type) -> return_type\"\n                 or just \"param1:type, param2:type) -> return_type\"\n                 \n    Returns:\n        tuple: (list of (name, type) tuples for parameters, return_type)\n    \"\"\"\n    # Extract the part inside parentheses if it's a full function signature\n    if '(' in sig_str:\n        params_str = sig_str.split('(')[1].split(')')[0]\n    else:\n        params_str = sig_str\n        \n    # Extract return type if present\n    return_type = None\n    if ' -> ' in sig_str:\n        return_type = sig_str.split(' -> ')[1].strip()\n        \n    # Parse parameters\n    params = []\n    if params_str.strip():\n        for param in params_str.split(','):\n            param = param.strip()\n            if ':' in param:\n                name, type_hint = param.split(':')\n                params.append((name.strip(), type_hint.strip()))\n            else:\n                # If no type hint, default to str\n                params.append((param.strip(), 'str'))\n    \n    return params, return_type"
  },
  {
   "cell_type": "code",
   "source": "# Test the signature parser\ntest_signatures = [\n    (\"forward(message:str)\", [((\"message\", \"str\"))], None),\n    (\"load(source:str) -> dict\", [((\"source\", \"str\"))], \"dict\"),\n    (\"validate(subject:str, predicate:str, object:str)\", \n     [(\"subject\", \"str\"), (\"predicate\", \"str\"), (\"object\", \"str\")], None),\n    (\"verify(graph_id:str, signature:str) -> bool\", \n     [(\"graph_id\", \"str\"), (\"signature\", \"str\")], \"bool\")\n]\n\nfor sig_str, expected_params, expected_return in test_signatures:\n    params, return_type = parse_signature(sig_str)\n    assert params == expected_params, f\"For {sig_str}, expected {expected_params}, got {params}\"\n    if expected_return:\n        assert return_type == expected_return, f\"For {sig_str}, expected return type {expected_return}, got {return_type}\"\n    \nprint(\"All signature parser tests passed!\")",
   "metadata": {},
   "outputs": []
  },
  {
   "cell_type": "code",
   "source": "#| export\ndef make_tool_wrappers(registry=COMPONENTS):\n    \"\"\"Generate DSPy Module classes for each tool in the registry.\n    \n    Args:\n        registry: Dictionary of component definitions with layer, tool, doc, and calls fields\n                 \n    Returns:\n        list: A list of DSPy Module classes, one for each component\n    \"\"\"\n    tools = []\n    \n    for name, meta in registry.items():\n        # Get call signature from the component metadata\n        call_sig = meta[\"calls\"]\n        params, return_type = parse_signature(call_sig)\n        \n        # Create signature string for DSPy\n        # Add commas between parameters for DSPy's signature parser\n        param_sig = \", \".join(f\"{p[0]}:{p[1]}\" for p in params)\n        output_type = return_type if return_type else \"output\"\n        signature_str = f\"{param_sig} -> {output_type}\"\n        \n        # Create a new DSPy Module class with documentation and layer info\n        class_doc = f\"{meta['doc']} [Layer: {meta['layer']}]\"\n        \n        class ToolWrapper(dspy.Module):\n            \"\"\"Placeholder docstring that will be replaced.\"\"\"\n            signature = dspy.Signature(signature_str)\n            \n            def forward(self, **kwargs):\n                # This is just a stub - would actually call real implementation\n                print(f\"Called {meta['tool']} with args: {kwargs}\")\n                return f\"Result from {meta['tool']}\"\n        \n        # Set proper class name and docstring\n        ToolWrapper.__doc__ = class_doc\n        ToolWrapper.__name__ = meta['tool']\n        ToolWrapper.__qualname__ = meta['tool']\n        \n        tools.append(ToolWrapper)\n    \n    return tools",
   "metadata": {},
   "outputs": []
  },
  {
   "cell_type": "code",
   "source": "#| export\n# Delay tool generation until explicitly called\nTOOLS = None\n\ndef get_tools():\n    \"\"\"Get or initialize the tool wrappers.\n    \n    Returns:\n        list: A list of DSPy Module classes, one for each component\n    \"\"\"\n    global TOOLS\n    if TOOLS is None:\n        TOOLS = make_tool_wrappers()\n    return TOOLS\n\n# Helper function to organize tools by layer\ndef group_tools_by_layer(tools=None):\n    \"\"\"Group the generated tools by their semantic layer.\n    \n    Args:\n        tools: List of tool classes to group. If None, uses get_tools().\n        \n    Returns:\n        dict: A dictionary with layers as keys and lists of tools as values\n    \"\"\"\n    if tools is None:\n        tools = get_tools()\n        \n    result = {}\n    for tool in tools:\n        # Extract layer from the docstring\n        doc = tool.__doc__\n        layer_match = re.search(r'\\[Layer: ([^\\]]+)\\]', doc)\n        if layer_match:\n            layer = layer_match.group(1)\n            if layer not in result:\n                result[layer] = []\n            result[layer].append(tool)\n    return result",
   "metadata": {},
   "outputs": []
  },
  {
   "cell_type": "code",
   "source": "# Test the tool wrapper generation\ntools = get_tools()\nassert len(tools) == len(COMPONENTS), f\"Expected {len(COMPONENTS)} tools, got {len(tools)}\"\n\n# Check that we have at least one tool for each layer\nlayers_dict = group_tools_by_layer(tools)\nprint(f\"Generated tools by layer: {', '.join(layers_dict.keys())}\")\nfor layer, tools in layers_dict.items():\n    print(f\"- {layer}: {len(tools)} tools\")\n    for tool in tools:\n        print(f\"  - {tool.__name__}\")\n\n# Test a specific tool\necho_tool = next(tool for tool in tools if tool.__name__ == \"EchoMessage\")\nassert echo_tool.__name__ == \"EchoMessage\"\nassert \"Layer: Utility\" in echo_tool.__doc__\nassert \"echoes the input message back\" in echo_tool.__doc__.lower()\n\n# Create and test an echo tool instance\necho_instance = echo_tool()\nresult = echo_instance(message=\"Hello, testing tool wrapper!\")\nprint(f\"\\nTool result: {result}\")",
   "metadata": {},
   "outputs": []
  },
  {
   "cell_type": "markdown",
   "source": "## Using the Generated Tools\n\nEach tool is a DSPy Module class that can be instantiated and used in a DSPy pipeline. Here's how to use the tools:\n\n1. **Individual Tool Usage**:\n   - Instantiate a specific tool using its class\n   - Call it with the appropriate parameters as defined in its signature\n\n2. **Layer-Based Tool Selection**:\n   - Use the `group_tools_by_layer()` function to organize tools by layer\n   - Select tools from the appropriate layer based on the user's query\n   \n3. **Integration with DSPy Agent**:\n   - Pass the entire `TOOLS` list to a `dspy.StructuredAgent`\n   - The agent will be able to discover and use the tools based on their signatures and documentation",
   "metadata": {}
  },
  {
   "cell_type": "code",
   "source": "# Example: Create an agent that can use our tools\ndef create_semantic_agent(lm=None):\n    \"\"\"Create a semantic agent with the generated tools.\n    \n    This function will eventually be moved to its own module. It's shown here\n    as an illustration of how the tools will be used in a DSPy agent.\n    \"\"\"\n    import dspy\n    from cogitarelink_dspy.core import default_lm\n    \n    # Use the LLM from core if none is provided\n    lm = lm or default_lm\n    \n    # Create a system prompt that explains the 4-layer architecture\n    system_prompt = \"\"\"\n    You are a Semantic-Web agent that reasons over a 4-layer architecture:\n    1. Context - Working with JSON-LD contexts and namespaces\n    2. Ontology - Using vocabularies and ontology terms\n    3. Rules - Applying validation rules and shapes\n    4. Instances - Managing actual data instances\n    5. Verification - Verifying and signing graph data\n    \n    Every tool is tagged with its PRIMARY layer. When answering a user question,\n    pick the tool from the HIGHEST layer that suffices to answer the question.\n    \"\"\"\n    \n    semantic_lm = dspy.LM(lm.model, system=system_prompt) if lm else None\n    \n    # Create a StructuredAgent with our tools\n    agent = dspy.StructuredAgent(\n        tools=get_tools(),  # Get tools using the getter function\n        lm=semantic_lm\n    )\n    \n    return agent\n\n# This will be implemented in a future notebook focused on the agent\n# agent = create_semantic_agent() \n# result = agent.query(\"Load the schema.org context\")",
   "metadata": {},
   "outputs": []
  },
  {
   "cell_type": "code",
   "source": "#| hide\nimport nbdev; nbdev.nbdev_export()",
   "metadata": {},
   "outputs": []
  },
  {
   "cell_type": "code",
   "execution_count": null,
   "metadata": {},
   "outputs": [],
   "source": [
    "#| hide\n",
    "import nbdev; nbdev.nbdev_export()"
   ]
  }
 ],
 "metadata": {
  "kernelspec": {
   "display_name": "python3",
   "language": "python",
   "name": "python3"
  }
 },
 "nbformat": 4,
 "nbformat_minor": 4
}