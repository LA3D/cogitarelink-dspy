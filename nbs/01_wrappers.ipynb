{
 "cells": [
  {
   "cell_type": "markdown",
   "metadata": {},
   "source": [
    "# wrappers\n",
    "\n",
    "> Fill in a module description here"
   ]
  },
  {
   "cell_type": "code",
   "execution_count": null,
   "metadata": {},
   "outputs": [],
   "source": [
    "#| default_exp wrappers"
   ]
  },
  {
   "cell_type": "code",
   "execution_count": null,
   "metadata": {},
   "outputs": [],
   "source": [
    "#| hide\n",
    "from nbdev.showdoc import *"
   ]
  },
  {
   "cell_type": "code",
   "execution_count": null,
   "metadata": {},
   "outputs": [
    {
     "ename": "SyntaxError",
     "evalue": "invalid syntax. Perhaps you forgot a comma? (<unknown>, line 1)",
     "output_type": "error",
     "traceback": [
      "Traceback \u001b[36m(most recent call last)\u001b[39m:\n",
      "  File \u001b[92m~/dev/git/LA3D/cogitarelink/cogitarelink-dspy/.venv/lib/python3.13/site-packages/IPython/core/interactiveshell.py:3670\u001b[39m in \u001b[95mrun_code\u001b[39m\n    exec(code_obj, self.user_global_ns, self.user_ns)\n",
      "  Cell \u001b[92mIn[6]\u001b[39m\u001b[92m, line 5\u001b[39m\n    class QueryInstances(Module):\n",
      "  Cell \u001b[92mIn[6]\u001b[39m\u001b[92m, line 9\u001b[39m in \u001b[95mQueryInstances\u001b[39m\n    signature = Signature(\"subj:str pred:str obj:str -> triples:list\")\n",
      "  File \u001b[92m~/dev/git/LA3D/cogitarelink/cogitarelink-dspy/.venv/lib/python3.13/site-packages/dspy/signatures/signature.py:44\u001b[39m in \u001b[95m__call__\u001b[39m\n    return make_signature(*args, **kwargs)\n",
      "  File \u001b[92m~/dev/git/LA3D/cogitarelink/cogitarelink-dspy/.venv/lib/python3.13/site-packages/dspy/signatures/signature.py:312\u001b[39m in \u001b[95mmake_signature\u001b[39m\n    fields = _parse_signature(signature) if isinstance(signature, str) else signature\n",
      "  File \u001b[92m~/dev/git/LA3D/cogitarelink/cogitarelink-dspy/.venv/lib/python3.13/site-packages/dspy/signatures/signature.py:357\u001b[39m in \u001b[95m_parse_signature\u001b[39m\n    for field_name, field_type in _parse_field_string(inputs_str):\n",
      "  File \u001b[92m~/dev/git/LA3D/cogitarelink/cogitarelink-dspy/.venv/lib/python3.13/site-packages/dspy/signatures/signature.py:373\u001b[39m in \u001b[95m_parse_field_string\u001b[39m\n    args = ast.parse(f\"def f({field_string}): pass\").body[0].args.args\n",
      "\u001b[36m  \u001b[39m\u001b[36mFile \u001b[39m\u001b[32m/opt/homebrew/Cellar/python@3.13/3.13.3/Frameworks/Python.framework/Versions/3.13/lib/python3.13/ast.py:54\u001b[39m\u001b[36m in \u001b[39m\u001b[35mparse\u001b[39m\n\u001b[31m    \u001b[39m\u001b[31mreturn compile(source, filename, mode, flags,\u001b[39m\n",
      "  \u001b[36mFile \u001b[39m\u001b[32m<unknown>:1\u001b[39m\n\u001b[31m    \u001b[39m\u001b[31mdef f(subj:str pred:str obj:str ): pass\u001b[39m\n               ^\n\u001b[31mSyntaxError\u001b[39m\u001b[31m:\u001b[39m invalid syntax. Perhaps you forgot a comma?\n"
     ]
    }
   ],
   "source": [
    "# Goal: tool wrapper for GraphManager.query\n",
    "from cogitarelink.core.graph import GraphManager\n",
    "from dspy import Module, Signature\n",
    "\n",
    "class QueryInstances(Module):\n",
    "    \"\"\"QueryInstances(subj:str='', pred:str='', obj:str='') ➜ list[tuple]\n",
    "    Layer: Instances. Perform triple‑pattern query on the active GraphManager.\n",
    "    \"\"\"\n",
    "    signature = Signature(\"subj:str pred:str obj:str -> triples:list\")\n",
    "\n",
    "    def __init__(self, graph:GraphManager):\n",
    "        super().__init__()\n",
    "        self.graph = graph\n",
    "\n",
    "    def forward(self, subj:str=\"\", pred:str=\"\", obj:str=\"\"):\n",
    "        return self.graph.query(subj=subj or None, pred=pred or None, obj=obj or None)\n",
    "\n",
    "# quick smoke‑test\n",
    "g = GraphManager(use_rdflib=True)\n",
    "g.add_triple(\"A\",\"knows\",\"B\")\n",
    "assert QueryInstances(g)().startswith([(\"A\",\"knows\",\"B\")])"
   ]
  },
  {
   "cell_type": "code",
   "execution_count": null,
   "metadata": {},
   "outputs": [
    {
     "name": "stderr",
     "output_type": "stream",
     "text": [
      "/Users/cvardema/dev/git/LA3D/cogitarelink/cogitarelink-dspy/.venv/lib/python3.13/site-packages/tqdm/auto.py:21: TqdmWarning: IProgress not found. Please update jupyter and ipywidgets. See https://ipywidgets.readthedocs.io/en/stable/user_install.html\n",
      "  from .autonotebook import tqdm as notebook_tqdm\n"
     ]
    }
   ],
   "source": [
    "from inspect import signature\n",
    "import dspy, importlib\n",
    "\n",
    "def make_tools(registry):\n",
    "    tools = []\n",
    "    for name, meta in registry.items():\n",
    "        module = importlib.import_module(f\"cogitarelink.{meta.get('submod','core')}\")\n",
    "        target = getattr(module, name)\n",
    "        sig_str = \" \".join(f\"{k}:{p.annotation.__name__}\"\n",
    "                           for k,p in signature(target).parameters.items())\n",
    "        sig_str += \" -> output\"\n",
    "\n",
    "        class _Tool(dspy.Module):\n",
    "            \"\"\"{meta['doc']}  [Layer: {meta['layer']}]\"\"\"\n",
    "            signature = dspy.Signature(sig_str)\n",
    "            def forward(self, **kw): return target(**kw)\n",
    "\n",
    "        _Tool.__name__ = meta[\"tool\"]\n",
    "        tools.append(_Tool)\n",
    "    return tools"
   ]
  },
  {
   "cell_type": "code",
   "execution_count": null,
   "metadata": {},
   "outputs": [],
   "source": [
    "#| hide\n",
    "import nbdev; nbdev.nbdev_export()"
   ]
  }
 ],
 "metadata": {
  "kernelspec": {
   "display_name": "python3",
   "language": "python",
   "name": "python3"
  }
 },
 "nbformat": 4,
 "nbformat_minor": 4
}
