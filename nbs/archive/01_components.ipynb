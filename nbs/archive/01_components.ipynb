{
 "cells": [
  {
   "cell_type": "markdown",
   "id": "980b3a8a",
   "metadata": {},
   "source": [
    "# Component Catalog\n",
    "\n",
    "> A centralized registry of all Cogitarelink tools organized by semantic layer.\n",
    "\n",
    "This module provides a single dictionary that defines all available tools in the system, their documentation, and their layer in the semantic web stack. It serves as the single source of truth for tool discovery and documentation."
   ]
  },
  {
   "cell_type": "code",
   "execution_count": null,
   "id": "606c6ab3",
   "metadata": {},
   "outputs": [],
   "source": [
    "#| default_exp components"
   ]
  },
  {
   "cell_type": "code",
   "execution_count": null,
   "id": "dce0c287",
   "metadata": {},
   "outputs": [],
   "source": [
    "#| hide\n",
    "from nbdev.showdoc import *"
   ]
  },
  {
   "cell_type": "code",
   "id": "226ec3b2",
   "metadata": {},
   "outputs": [],
   "source": "#| export\n\n# Component registry organized by semantic layer:\n# 1. Context - Tools for handling JSON-LD contexts and namespaces\n# 2. Ontology - Tools for fetching and exploring ontologies/vocabularies\n# 3. Rules - Tools for validation and rules processing\n# 4. Instances - Tools for data instance management\n# 5. Verification - Tools for verification and signatures\n\nCOMPONENTS = {\n    # ===== Basic Echo Tool (for testing) =====\n    \"Utils\": {\n        \"layer\": \"Utility\",\n        \"tool\": \"EchoMessage\",\n        \"doc\": \"Simply echoes the input message back.\",\n        \"calls\": \"load_module_source(module_name:str, full_name:bool=False) -> str\",\n        \"module\": \"cogitarelink.utils\"\n    },\n    \n    # ===== Context Layer =====\n    \"ContextProcessor\": {\n        \"layer\": \"Context\",\n        \"tool\": \"LoadContext\",\n        \"doc\": \"Loads and processes JSON-LD contexts.\",\n        \"calls\": \"compact(doc:dict, ctx:dict) -> dict\",\n        \"module\": \"cogitarelink.core.context\"\n    },\n    \n    # ===== Ontology Layer =====\n    \"VocabRegistry\": {\n        \"layer\": \"Ontology\",\n        \"tool\": \"FetchOntology\",\n        \"doc\": \"Accesses the vocabulary registry.\",\n        \"calls\": \"resolve(uri:str) -> dict\",\n        \"module\": \"cogitarelink.vocab.registry\"\n    },\n    \n    # ===== Rules Layer =====\n    \"ValidateEntity\": {\n        \"layer\": \"Rules\",\n        \"tool\": \"ValidateEntity\",\n        \"doc\": \"Validates an Entity against SHACL shapes.\",\n        \"calls\": \"validate_entity(target:str, shapes_graph:str) -> bool\",\n        \"module\": \"cogitarelink.verify.validator\"\n    },\n    \n    # ===== Instances Layer =====\n    \"GraphManager\": {\n        \"layer\": \"Instances\",\n        \"tool\": \"GraphManager\",\n        \"doc\": \"Manages RDF graphs and triples.\",\n        \"calls\": \"query(q:str) -> dict\",\n        \"module\": \"cogitarelink.core.graph\"\n    },\n    \n    # ===== Verification Layer =====\n    \"Signer\": {\n        \"layer\": \"Verification\",\n        \"tool\": \"VerifySignature\",\n        \"doc\": \"Verifies a digital signature on a named graph.\",\n        \"calls\": \"verify(graph_id:str, signature:str) -> bool\",\n        \"module\": \"cogitarelink.verify.signer\"\n    },\n    \n    # ===== Memory Tools =====\n    \"AddReflection\": {\n        \"layer\":\"Utility\",\n        \"tool\":\"AddReflection\",\n        \"doc\":\"Persist a reflection into semantic memory\",\n        \"calls\":\"add(text:str, tags:list=None)->str\",\n        \"module\":\"cogitarelink_dspy.memory\"\n    },\n    \"RecallReflection\": {\n        \"layer\":\"Utility\",\n        \"tool\":\"RecallReflection\",\n        \"doc\":\"Retrieve recent reflection notes\",\n        \"calls\":\"retrieve(limit:int, tag_filter:str=None)->list\",\n        \"module\":\"cogitarelink_dspy.memory\"\n    },\n    \"ReflectionPrompt\": {\n        \"layer\":\"Utility\",\n        \"tool\":\"ReflectionPrompt\",\n        \"doc\":\"Format recent notes for prompt injection\",\n        \"calls\":\"as_prompt(limit:int)->str\",\n        \"module\":\"cogitarelink_dspy.memory\"\n    }\n}"
  },
  {
   "cell_type": "code",
   "execution_count": null,
   "id": "45864bc7",
   "metadata": {},
   "outputs": [],
   "source": [
    "#| export\n",
    "def get_tools_by_layer(layer, registry=COMPONENTS):\n",
    "    \"\"\"Return all tool definitions for a specific layer.\n",
    "    \n",
    "    Args:\n",
    "        layer (str): The layer name to filter by\n",
    "        registry (dict, optional): The component registry to use. Defaults to COMPONENTS.\n",
    "        \n",
    "    Returns:\n",
    "        dict: Dictionary of component name to metadata for the specified layer\n",
    "    \"\"\"\n",
    "    return {name: meta for name, meta in registry.items() \n",
    "            if meta['layer'] == layer}\n",
    "\n",
    "def list_layers(registry=COMPONENTS):\n",
    "    \"\"\"Return all unique layers in the component registry.\n",
    "    \n",
    "    Args:\n",
    "        registry (dict, optional): The component registry to use. Defaults to COMPONENTS.\n",
    "        \n",
    "    Returns:\n",
    "        list: Sorted list of layer names\n",
    "    \"\"\"\n",
    "    return sorted(list(set(meta['layer'] for meta in registry.values())))"
   ]
  },
  {
   "cell_type": "code",
   "execution_count": null,
   "id": "045a6965",
   "metadata": {},
   "outputs": [],
   "source": [
    "# Test our component registry and helper functions\n",
    "all_layers = list_layers()\n",
    "print(f\"Discovered layers: {all_layers}\")\n",
    "assert \"Context\" in all_layers\n",
    "assert \"Rules\" in all_layers\n",
    "assert \"Instances\" in all_layers\n",
    "\n",
    "# Test getting tools by layer\n",
    "utility_tools = get_tools_by_layer(\"Utility\")\n",
    "assert \"Echo\" in utility_tools\n",
    "assert utility_tools[\"Echo\"][\"tool\"] == \"EchoMessage\"\n",
    "\n",
    "# Display a sample of documentation\n",
    "for name, meta in list(COMPONENTS.items())[:2]:\n",
    "    print(f\"Tool: {meta['tool']} [Layer: {meta['layer']}]\")\n",
    "    print(f\"Doc: {meta['doc']}\")\n",
    "    print(f\"Calls: {meta['calls']}\")\n",
    "    print(\"-\" * 40)"
   ]
  },
  {
   "cell_type": "code",
   "execution_count": null,
   "id": "f7629115",
   "metadata": {},
   "outputs": [],
   "source": [
    "#| export\n",
    "def validate_component_registry(registry=COMPONENTS):\n",
    "    \"\"\"Validate that all entries in the component registry have required fields.\"\"\"\n",
    "    # Module field is optional; only layer, tool, doc, and calls are required\n",
    "    required_fields = ['layer', 'tool', 'doc', 'calls']\n",
    "    errors = []\n",
    "    \n",
    "    for name, meta in registry.items():\n",
    "        # Check required fields\n",
    "        for field in required_fields:\n",
    "            if field not in meta:\n",
    "                errors.append(f\"Component {name} is missing required field '{field}'\")\n",
    "        \n",
    "        # Validate tool name is a valid Python identifier\n",
    "        if 'tool' in meta and not meta['tool'].isidentifier():\n",
    "            errors.append(f\"Component {name} has invalid tool name '{meta['tool']}', must be a valid Python identifier\")\n",
    "        \n",
    "        # Validate calls format\n",
    "        if 'calls' in meta:\n",
    "            try:\n",
    "                # Attempt to parse the signature\n",
    "                call_sig = meta['calls']\n",
    "                if '(' not in call_sig or ')' not in call_sig:\n",
    "                    errors.append(f\"Component {name} has malformed calls '{call_sig}', expected format 'method(param:type, ...)'\")\n",
    "            except Exception as e:\n",
    "                errors.append(f\"Component {name} has invalid calls string: {str(e)}\")\n",
    "                \n",
    "    # Check for duplicates\n",
    "    tools = {}\n",
    "    for name, meta in registry.items():\n",
    "        if 'tool' in meta:\n",
    "            tool_name = meta['tool']\n",
    "            if tool_name in tools:\n",
    "                errors.append(f\"Duplicate tool name '{tool_name}' in components '{name}' and '{tools[tool_name]}'\")\n",
    "            else:\n",
    "                tools[tool_name] = name\n",
    "                \n",
    "    return errors"
   ]
  },
  {
   "cell_type": "code",
   "execution_count": null,
   "id": "0a206399",
   "metadata": {},
   "outputs": [],
   "source": [
    "# Test the validation function\n",
    "errors = validate_component_registry()\n",
    "assert len(errors) == 0, f\"Found errors in component registry: {errors}\"\n",
    "\n",
    "# Test adding invalid components\n",
    "invalid_registry = COMPONENTS.copy()\n",
    "invalid_registry[\"BadComponent\"] = {\n",
    "    \"layer\": \"Utility\",\n",
    "    \"tool\": \"Invalid Tool Name\",  # Contains spaces, invalid identifier\n",
    "    \"doc\": \"This is a bad component.\"\n",
    "    # Missing calls and module\n",
    "}\n",
    "\n",
    "errors = validate_component_registry(invalid_registry)\n",
    "print(f\"Validation found {len(errors)} errors in the invalid registry:\")\n",
    "for error in errors:\n",
    "    print(f\"- {error}\")"
   ]
  },
  {
   "cell_type": "code",
   "execution_count": null,
   "id": "4229af5b",
   "metadata": {},
   "outputs": [],
   "source": [
    "#| hide\n",
    "import nbdev; nbdev.nbdev_export()"
   ]
  }
 ],
 "metadata": {
  "kernelspec": {
   "display_name": "python3",
   "language": "python",
   "name": "python3"
  }
 },
 "nbformat": 4,
 "nbformat_minor": 5
}