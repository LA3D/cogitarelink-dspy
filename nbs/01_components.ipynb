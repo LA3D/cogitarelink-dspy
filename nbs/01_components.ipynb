{
 "cells": [
  {
   "cell_type": "markdown",
   "metadata": {},
   "source": [
    "# Component Catalog\n",
    "\n",
    "> A centralized registry of all Cogitarelink tools organized by semantic layer.\n",
    "\n",
    "This module provides a single dictionary that defines all available tools in the system, their documentation, and their layer in the semantic web stack. It serves as the single source of truth for tool discovery and documentation."
   ]
  },
  {
   "cell_type": "code",
   "metadata": {},
   "outputs": [],
   "source": "#| default_exp components"
  },
  {
   "cell_type": "code",
   "execution_count": null,
   "metadata": {},
   "outputs": [],
   "source": [
    "#| hide\n",
    "from nbdev.showdoc import *"
   ]
  },
  {
   "cell_type": "code",
   "execution_count": null,
   "metadata": {},
   "outputs": [],
   "source": [
    "#| export\n",
    "\n",
    "# Component registry organized by semantic layer:\n",
    "# 1. Context - Tools for handling JSON-LD contexts and namespaces\n",
    "# 2. Ontology - Tools for fetching and exploring ontologies/vocabularies\n",
    "# 3. Rules - Tools for validation and rules processing\n",
    "# 4. Instances - Tools for data instance management\n",
    "# 5. Verification - Tools for verification and signatures\n",
    "\n",
    "COMPONENTS = {\n",
    "    # ===== Basic Echo Tool (for testing) =====\n",
    "    \"Echo\": {\n",
    "        \"layer\": \"Utility\",\n",
    "        \"tool\": \"EchoMessage\",\n",
    "        \"doc\": \"Simply echoes the input message back.\",\n",
    "        \"calls\": \"forward(message:str)\"\n",
    "    },\n",
    "    \n",
    "    # ===== Context Layer =====\n",
    "    \"SimpleContext\": {\n",
    "        \"layer\": \"Context\",\n",
    "        \"tool\": \"LoadContext\",\n",
    "        \"doc\": \"Loads a simple JSON-LD context from a string or URL.\",\n",
    "        \"calls\": \"load(source:str)\"\n",
    "    },\n",
    "    \n",
    "    # ===== Ontology Layer =====\n",
    "    \"OntologyFetcher\": {\n",
    "        \"layer\": \"Ontology\",\n",
    "        \"tool\": \"FetchOntology\",\n",
    "        \"doc\": \"Fetches and caches a vocabulary or ontology by URI.\",\n",
    "        \"calls\": \"fetch(uri:str)\"\n",
    "    },\n",
    "    \n",
    "    # ===== Rules Layer =====\n",
    "    \"SimpleValidator\": {\n",
    "        \"layer\": \"Rules\",\n",
    "        \"tool\": \"ValidateTriple\",\n",
    "        \"doc\": \"Validates if a triple conforms to basic RDF rules.\",\n",
    "        \"calls\": \"validate(subject:str, predicate:str, object:str)\"\n",
    "    },\n",
    "    \n",
    "    # ===== Instances Layer =====\n",
    "    \"TripleStore\": {\n",
    "        \"layer\": \"Instances\",\n",
    "        \"tool\": \"StoreTriple\",\n",
    "        \"doc\": \"Stores a triple in the graph manager.\",\n",
    "        \"calls\": \"add(subject:str, predicate:str, object:str)\"\n",
    "    },\n",
    "    \n",
    "    # ===== Verification Layer =====\n",
    "    \"SignatureChecker\": {\n",
    "        \"layer\": \"Verification\",\n",
    "        \"tool\": \"VerifySignature\",\n",
    "        \"doc\": \"Verifies a digital signature on a named graph.\",\n",
    "        \"calls\": \"verify(graph_id:str, signature:str)\"\n",
    "    }\n",
    "}"
   ]
  },
  {
   "cell_type": "code",
   "execution_count": null,
   "metadata": {},
   "outputs": [],
   "source": [
    "#| export\n",
    "def get_tools_by_layer(layer, registry=COMPONENTS):\n",
    "    \"\"\"Return all tool definitions for a specific layer.\"\"\"\n",
    "    return {name: meta for name, meta in registry.items() \n",
    "            if meta['layer'] == layer}\n",
    "\n",
    "def list_layers(registry=COMPONENTS):\n",
    "    \"\"\"Return all unique layers in the component registry.\"\"\"\n",
    "    return sorted(list(set(meta['layer'] for meta in registry.values())))"
   ]
  },
  {
   "cell_type": "code",
   "execution_count": null,
   "metadata": {},
   "outputs": [],
   "source": [
    "# Test our component registry and helper functions\n",
    "all_layers = list_layers()\n",
    "print(f\"Discovered layers: {all_layers}\")\n",
    "assert \"Context\" in all_layers\n",
    "assert \"Rules\" in all_layers\n",
    "assert \"Instances\" in all_layers\n",
    "\n",
    "# Test getting tools by layer\n",
    "utility_tools = get_tools_by_layer(\"Utility\")\n",
    "assert \"Echo\" in utility_tools\n",
    "assert utility_tools[\"Echo\"][\"tool\"] == \"EchoMessage\"\n",
    "\n",
    "# Display a sample of documentation\n",
    "for name, meta in list(COMPONENTS.items())[:2]:\n",
    "    print(f\"Tool: {meta['tool']} [Layer: {meta['layer']}]\")\n",
    "    print(f\"Doc: {meta['doc']}\")\n",
    "    print(f\"Calls: {meta['calls']}\")\n",
    "    print(\"-\" * 40)"
   ]
  },
  {
   "cell_type": "code",
   "execution_count": null,
   "metadata": {},
   "outputs": [],
   "source": [
    "#| export\n",
    "def validate_component_registry(registry=COMPONENTS):\n",
    "    \"\"\"Validate that all entries in the component registry have required fields.\"\"\"\n",
    "    required_fields = ['layer', 'tool', 'doc', 'calls']\n",
    "    errors = []\n",
    "    \n",
    "    for name, meta in registry.items():\n",
    "        for field in required_fields:\n",
    "            if field not in meta:\n",
    "                errors.append(f\"Component {name} is missing required field '{field}'\")\n",
    "                \n",
    "    return errors"
   ]
  },
  {
   "cell_type": "code",
   "execution_count": null,
   "metadata": {},
   "outputs": [],
   "source": [
    "# Test the validation function\n",
    "errors = validate_component_registry()\n",
    "assert len(errors) == 0, f\"Found errors in component registry: {errors}\""
   ]
  },
  {
   "cell_type": "code",
   "execution_count": null,
   "metadata": {},
   "outputs": [],
   "source": [
    "#| hide\n",
    "import nbdev; nbdev.nbdev_export()"
   ]
  }
 ],
 "metadata": {
  "kernelspec": {
   "display_name": "python3",
   "language": "python",
   "name": "python3"
  }
 },
 "nbformat": 4,
 "nbformat_minor": 4
}