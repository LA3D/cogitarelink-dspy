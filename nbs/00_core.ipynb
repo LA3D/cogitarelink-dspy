{
 "cells": [
  {
   "cell_type": "markdown",
   "metadata": {},
   "source": "# Hello-World DSPy Agent\n\n> A minimal DSPy agent implementation to echo or compute simple inputs.",
   "outputs": []
  },
  {
   "cell_type": "code",
   "execution_count": null,
   "metadata": {},
   "outputs": [],
   "source": [
    "#| default_exp core"
   ]
  },
  {
   "cell_type": "code",
   "metadata": {},
   "outputs": [],
   "source": "#| hide\nfrom nbdev.showdoc import *"
  },
  {
   "cell_type": "code",
   "source": "#| export\nimport dspy\n\nclass Echo(dspy.Module):\n    \"\"\"Echoes the input message back.\"\"\"\n    def forward(self, message: str) -> str:\n        return message",
   "metadata": {},
   "outputs": []
  },
  {
   "cell_type": "code",
   "metadata": {},
   "outputs": [],
   "source": "#| export\ndef make_hello_agent(llm=None):\n    \"\"\"Create a simple DSPy agent with the Echo tool.\"\"\"\n    # Create an Agent class that uses the Echo tool\n    class HelloAgent(dspy.Module):\n        def __init__(self):\n            super().__init__()\n            self.tools = [Echo()]\n            \n        def forward(self, message):\n            # Simply use the Echo tool to echo the message back\n            echo_tool = self.tools[0]\n            return echo_tool.forward(message)\n            \n    # Return a new instance of the HelloAgent\n    return HelloAgent()"
  },
  {
   "cell_type": "code",
   "source": "# Demo the Hello-World agent\nagent = make_hello_agent()\nmessage = \"Hello, DSPy!\"\nresult = agent(message)\nprint(\"Agent output:\", result)",
   "metadata": {},
   "outputs": []
  },
  {
   "cell_type": "code",
   "execution_count": null,
   "metadata": {},
   "outputs": [],
   "source": [
    "#| hide\n",
    "import nbdev; nbdev.nbdev_export()"
   ]
  }
 ],
 "metadata": {
  "kernelspec": {
   "display_name": "python3",
   "language": "python",
   "name": "python3"
  }
 },
 "nbformat": 4,
 "nbformat_minor": 4
}